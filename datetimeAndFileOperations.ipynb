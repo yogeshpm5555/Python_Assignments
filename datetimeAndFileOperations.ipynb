{
 "cells": [
  {
   "cell_type": "markdown",
   "metadata": {},
   "source": [
    "# Mr. Yogesh P Murumkar (Mob. 9657080905) "
   ]
  },
  {
   "cell_type": "markdown",
   "metadata": {},
   "source": [
    "Python has a module named datetime to work with dates and times. "
   ]
  },
  {
   "cell_type": "code",
   "execution_count": null,
   "metadata": {},
   "outputs": [],
   "source": []
  },
  {
   "cell_type": "code",
   "execution_count": 99,
   "metadata": {},
   "outputs": [
    {
     "name": "stdout",
     "output_type": "stream",
     "text": [
      "2019-08-08 06:57:56.367660\n"
     ]
    }
   ],
   "source": [
    "import datetime\n",
    "datetime_object = datetime.datetime.now()\n",
    "print(datetime_object)"
   ]
  },
  {
   "cell_type": "markdown",
   "metadata": {},
   "source": [
    "Explanation :\n",
    "Here, we have imported datetime module using import datetime statement.\n",
    "One of the classes defined in the datetime module is datetime class. \n",
    "We then used now() method to create a datetime object containing the current local date and time."
   ]
  },
  {
   "cell_type": "markdown",
   "metadata": {},
   "source": [
    "Get Current Date"
   ]
  },
  {
   "cell_type": "code",
   "execution_count": 1,
   "metadata": {},
   "outputs": [
    {
     "name": "stdout",
     "output_type": "stream",
     "text": [
      "2019-08-08\n"
     ]
    }
   ],
   "source": [
    "import datetime\n",
    "date_object = datetime.date.today()\n",
    "print(date_object)"
   ]
  },
  {
   "cell_type": "markdown",
   "metadata": {},
   "source": [
    "Explanation : In this program, we have used today() method defined in the date class to get\n",
    "    a date object containing the current local date."
   ]
  },
  {
   "cell_type": "markdown",
   "metadata": {},
   "source": [
    "What's inside datetime?\n",
    "We can use dir() function to get a list containing all attributes of a module."
   ]
  },
  {
   "cell_type": "code",
   "execution_count": 101,
   "metadata": {},
   "outputs": [
    {
     "name": "stdout",
     "output_type": "stream",
     "text": [
      "['MAXYEAR', 'MINYEAR', '__builtins__', '__cached__', '__doc__', '__file__', '__loader__', '__name__', '__package__', '__spec__', 'date', 'datetime', 'datetime_CAPI', 'sys', 'time', 'timedelta', 'timezone', 'tzinfo']\n"
     ]
    }
   ],
   "source": [
    "import datetime\n",
    "print(dir(datetime))"
   ]
  },
  {
   "cell_type": "markdown",
   "metadata": {},
   "source": [
    "Commonly used classes in the datetime module are:\n",
    "\n",
    "date Class\n",
    "time Class\n",
    "datetime Class\n",
    "timedelta Class"
   ]
  },
  {
   "cell_type": "markdown",
   "metadata": {},
   "source": [
    "1. datetime.date Class\n",
    "\n",
    "You can instantiate date objects from the date class. \n",
    "A date object represents a date (year, month and day)."
   ]
  },
  {
   "cell_type": "code",
   "execution_count": 2,
   "metadata": {},
   "outputs": [
    {
     "name": "stdout",
     "output_type": "stream",
     "text": [
      "2019-04-15\n"
     ]
    }
   ],
   "source": [
    "# Date object to represent a date\n",
    "import datetime\n",
    "d = datetime.date(2019, 4, 15)\n",
    "print(d)"
   ]
  },
  {
   "cell_type": "code",
   "execution_count": 103,
   "metadata": {},
   "outputs": [
    {
     "name": "stdout",
     "output_type": "stream",
     "text": [
      "Current date = 2019-08-08\n"
     ]
    }
   ],
   "source": [
    "# Get current date\n",
    "#You can create a date object containing the current date by using a classmethod named today()\n",
    "\n",
    "from datetime import date\n",
    "today = date.today()\n",
    "print(\"Current date =\", today)"
   ]
  },
  {
   "cell_type": "markdown",
   "metadata": {},
   "source": [
    "Print today's year, month and day"
   ]
  },
  {
   "cell_type": "code",
   "execution_count": 104,
   "metadata": {},
   "outputs": [
    {
     "name": "stdout",
     "output_type": "stream",
     "text": [
      "Current year: 2019\n",
      "Current month: 8\n",
      "Current day: 8\n"
     ]
    }
   ],
   "source": [
    "#We can get year, month, day, day of the week etc. from the date object\n",
    "\n",
    "from datetime import date\n",
    "# date object of today's date\n",
    "today = date.today() \n",
    "print(\"Current year:\", today.year)\n",
    "print(\"Current month:\", today.month)\n",
    "print(\"Current day:\", today.day)"
   ]
  },
  {
   "cell_type": "markdown",
   "metadata": {},
   "source": [
    "Time object to represent time"
   ]
  },
  {
   "cell_type": "code",
   "execution_count": 105,
   "metadata": {},
   "outputs": [
    {
     "name": "stdout",
     "output_type": "stream",
     "text": [
      "a = 00:00:00\n",
      "b = 11:34:56\n",
      "c = 11:34:56\n",
      "d = 11:34:56.234566\n"
     ]
    }
   ],
   "source": [
    "from datetime import time\n",
    "# time(hour = 0, minute = 0, second = 0)\n",
    "a = time()\n",
    "print(\"a =\", a)\n",
    "# time(hour, minute and second)\n",
    "b = time(11, 34, 56)\n",
    "print(\"b =\", b)\n",
    "# time(hour, minute and second)\n",
    "c = time(hour = 11, minute = 34, second = 56)\n",
    "print(\"c =\", c)\n",
    "# time(hour, minute, second, microsecond)\n",
    "d = time(11, 34, 56, 234566)\n",
    "print(\"d =\", d)"
   ]
  },
  {
   "cell_type": "markdown",
   "metadata": {},
   "source": [
    "Print hour, minute, second and microsecond"
   ]
  },
  {
   "cell_type": "code",
   "execution_count": 106,
   "metadata": {},
   "outputs": [
    {
     "name": "stdout",
     "output_type": "stream",
     "text": [
      "hour = 11\n",
      "minute = 34\n",
      "second = 56\n",
      "microsecond = 0\n"
     ]
    }
   ],
   "source": [
    "# Once you create a time object, you can easily print its attributes such as hour, minute etc.\n",
    "\n",
    "from datetime import time\n",
    "a = time(11, 34, 56)\n",
    "print(\"hour =\", a.hour)\n",
    "print(\"minute =\", a.minute)\n",
    "print(\"second =\", a.second)\n",
    "print(\"microsecond =\", a.microsecond)"
   ]
  },
  {
   "cell_type": "markdown",
   "metadata": {},
   "source": [
    "Python File I/O"
   ]
  },
  {
   "cell_type": "markdown",
   "metadata": {},
   "source": [
    "What is a file?\n",
    "File is a named location on disk to store related information. \n",
    "It is used to permanently store data in a non-volatile memory (e.g. hard disk).\n",
    "\n",
    "Since, random access memory (RAM) is volatile which loses its data when computer is turned off, \n",
    "we use files for future use of the data.\n",
    "\n",
    "When we want to read from or write to a file we need to open it first.\n",
    "When we are done, it needs to be closed, so that resources that are tied with the file are freed.\n",
    "\n",
    "Hence, in Python, a file operation takes place in the following order.\n",
    "\n",
    "Open a file\n",
    "Read or write (perform operation)\n",
    "Close the file"
   ]
  },
  {
   "cell_type": "code",
   "execution_count": 107,
   "metadata": {},
   "outputs": [],
   "source": [
    "# How to open a file?\n",
    "\n",
    "#Python has a built-in function open() to open a file.\n",
    "#This function returns a file object, also called a handle, \n",
    "#as it is used to read or modify the file accordingly.\n",
    "\n",
    "import os"
   ]
  },
  {
   "cell_type": "code",
   "execution_count": 108,
   "metadata": {},
   "outputs": [
    {
     "data": {
      "text/plain": [
       "'C:\\\\Users\\\\USER\\\\Desktop\\\\01-Python-Crash-Course'"
      ]
     },
     "execution_count": 108,
     "metadata": {},
     "output_type": "execute_result"
    }
   ],
   "source": [
    "os.getcwd()"
   ]
  },
  {
   "cell_type": "code",
   "execution_count": 1,
   "metadata": {},
   "outputs": [],
   "source": [
    "f = open(\"test.txt\") "
   ]
  },
  {
   "cell_type": "code",
   "execution_count": 2,
   "metadata": {},
   "outputs": [],
   "source": [
    "f = open(\"C:\\\\Users\\\\USER\\\\Desktop\\\\01-Python-Crash-Course\\\\test.txt\")  # specifying full path"
   ]
  },
  {
   "cell_type": "markdown",
   "metadata": {},
   "source": [
    "We can specify the mode while opening a file. In mode, we specify whether we want to read 'r', write 'w' or append 'a' to the file. \n",
    "We also specify if we want to open the file in text mode or binary mode.\n",
    "\n",
    "The default is reading in text mode. In this mode, we get strings when reading from the file.\n",
    "\n",
    "On the other hand, binary mode returns bytes and this is the mode to be used when dealing \n",
    "with non-text files like image or exe files."
   ]
  },
  {
   "cell_type": "code",
   "execution_count": 51,
   "metadata": {},
   "outputs": [],
   "source": [
    "#Python File Modes\n",
    "#Mode\tDescription\n",
    "#'r'\tOpen a file for reading. (default)\n",
    "#'w'\tOpen a file for writing. Creates a new file if it does not exist or truncates the file if it exists.\n",
    "#'x'\tOpen a file for exclusive creation. If the file already exists, the operation fails.\n",
    "#'a'\tOpen for appending at the end of the file without truncating it. Creates a new file if it does not exist.\n",
    "#'t'\tOpen in text mode. (default)\n",
    "#'b'\tOpen in binary mode.\n",
    "#'+'\tOpen a file for updating (reading and writing)"
   ]
  },
  {
   "cell_type": "code",
   "execution_count": 2,
   "metadata": {},
   "outputs": [],
   "source": [
    "f = open(\"test.txt\")      # equivalent to 'r' or 'rt'\n",
    "f = open(\"test.txt\",'w')  # write in text mode\n",
    "#f = open(\"img.bmp\",'r+b') # read and write in binary mode"
   ]
  },
  {
   "cell_type": "markdown",
   "metadata": {},
   "source": [
    "Unlike other languages, the character 'a' does not imply the number 97 until \n",
    "it is encoded using ASCII (or other equivalent encodings).\n",
    "\n",
    "Moreover, the default encoding is platform dependent. \n",
    "In windows, it is 'cp1252' but 'utf-8' in Linux.\n",
    "\n",
    "So, we must not also rely on the default encoding or else our code will behave\n",
    "differently in different platforms.\n",
    "\n",
    "Hence, when working with files in text mode, \n",
    "it is highly recommended to specify the encoding type."
   ]
  },
  {
   "cell_type": "code",
   "execution_count": 3,
   "metadata": {},
   "outputs": [
    {
     "name": "stdout",
     "output_type": "stream",
     "text": [
      "<_io.TextIOWrapper name='test.txt' mode='r' encoding='utf-8'>\n"
     ]
    }
   ],
   "source": [
    "f = open(\"test.txt\",mode = 'r',encoding = 'utf-8')\n",
    "print(f)"
   ]
  },
  {
   "cell_type": "markdown",
   "metadata": {},
   "source": [
    "How to close a file Using Python?"
   ]
  },
  {
   "cell_type": "markdown",
   "metadata": {},
   "source": [
    "When we are done with operations to the file, we need to properly close the file.\n",
    "\n",
    "Closing a file will free up the resources that were tied with the file and is done\n",
    "using Python close() method.\n",
    "\n",
    "Python has a garbage collector to clean up unreferenced objects but, \n",
    "we must not rely on it to close the file."
   ]
  },
  {
   "cell_type": "code",
   "execution_count": 4,
   "metadata": {},
   "outputs": [],
   "source": [
    "f = open(\"test.txt\",encoding = 'utf-8')\n",
    "# perform file operations\n",
    "f.close()"
   ]
  },
  {
   "cell_type": "markdown",
   "metadata": {},
   "source": [
    "This method is not entirely safe.\n",
    "If an exception occurs when we are performing some operation with the file, \n",
    "the code exits without closing the file."
   ]
  },
  {
   "cell_type": "code",
   "execution_count": 6,
   "metadata": {},
   "outputs": [],
   "source": [
    "#A safer way is to use a try...finally block.\n",
    "\n",
    "try:\n",
    "   f = open(\"test.txt\",encoding = 'utf-8\n",
    "   # perform file oper')ations\n",
    "finally:\n",
    "   f.close()"
   ]
  },
  {
   "cell_type": "markdown",
   "metadata": {},
   "source": [
    "This way, we are guaranteed that the file is properly closed even if an exception is raised, causing program flow to stop.\n",
    "\n",
    "The best way to do this is using the with statement. This ensures that the file is closed when the block inside with is exited.\n",
    "\n",
    "We don't need to explicitly call the close() method. It is done internally."
   ]
  },
  {
   "cell_type": "code",
   "execution_count": 7,
   "metadata": {},
   "outputs": [
    {
     "ename": "SyntaxError",
     "evalue": "unexpected EOF while parsing (<ipython-input-7-8c33bbc5ef7f>, line 1)",
     "output_type": "error",
     "traceback": [
      "\u001b[1;36m  File \u001b[1;32m\"<ipython-input-7-8c33bbc5ef7f>\"\u001b[1;36m, line \u001b[1;32m1\u001b[0m\n\u001b[1;33m    with open(\"test.txt\",encoding = 'utf-8') as f:\u001b[0m\n\u001b[1;37m                                                  ^\u001b[0m\n\u001b[1;31mSyntaxError\u001b[0m\u001b[1;31m:\u001b[0m unexpected EOF while parsing\n"
     ]
    }
   ],
   "source": [
    "with open(\"test.txt\",encoding = 'utf-8') as f:"
   ]
  },
  {
   "cell_type": "markdown",
   "metadata": {},
   "source": [
    "How to write to File Using Python?\n",
    "\n",
    "In order to write into a file in Python, we need to open it in write 'w', append 'a' or \n",
    "exclusive creation 'x' mode.\n",
    "\n",
    "We need to be careful with the 'w' mode as it will overwrite into the file if it already exists. \n",
    "All previous data are erased.\n",
    "\n",
    "Writing a string or sequence of bytes (for binary files) is done using write() method. \n",
    "This method returns the number of characters written to the file."
   ]
  },
  {
   "cell_type": "code",
   "execution_count": 5,
   "metadata": {},
   "outputs": [],
   "source": [
    "with open(\"test.txt\",'w',encoding = 'utf-8') as f:\n",
    "   f.write(\"my first file\\n\")\n",
    "   f.write(\"This file\\n\\n\")\n",
    "   f.write(\"contains three lines\\n\")\n",
    "\n",
    "\n",
    "#This program will create a new file named 'test.txt' if it does not exist. \n",
    "#If it does exist, it is overwritten.\n",
    "\n",
    "#We must include the newline characters ourselves to distinguish different lines."
   ]
  },
  {
   "cell_type": "markdown",
   "metadata": {},
   "source": [
    "How to read files in Python?\n",
    "\n",
    "To read a file in Python, we must open the file in reading mode.\n",
    "\n",
    "There are various methods available for this purpose. \n",
    "We can use the read(size) method to read in size number of data. \n",
    "If size parameter is not specified, it reads and returns up to the end of the file."
   ]
  },
  {
   "cell_type": "code",
   "execution_count": 7,
   "metadata": {},
   "outputs": [],
   "source": [
    " f = open(\"test.txt\",'r',encoding = 'utf-8')"
   ]
  },
  {
   "cell_type": "code",
   "execution_count": 11,
   "metadata": {},
   "outputs": [
    {
     "data": {
      "text/plain": [
       "''"
      ]
     },
     "execution_count": 11,
     "metadata": {},
     "output_type": "execute_result"
    }
   ],
   "source": [
    "f.read() # read the first 4 data"
   ]
  },
  {
   "cell_type": "code",
   "execution_count": 16,
   "metadata": {},
   "outputs": [
    {
     "data": {
      "text/plain": [
       "'irst file\\n'"
      ]
     },
     "execution_count": 16,
     "metadata": {},
     "output_type": "execute_result"
    }
   ],
   "source": [
    "f.read(10)    # read the next 4 data"
   ]
  },
  {
   "cell_type": "code",
   "execution_count": 12,
   "metadata": {},
   "outputs": [
    {
     "data": {
      "text/plain": [
       "' file\\nThis file\\n\\ncontains three lines\\n'"
      ]
     },
     "execution_count": 12,
     "metadata": {},
     "output_type": "execute_result"
    }
   ],
   "source": [
    "f.read()     # read in the rest till end of file"
   ]
  },
  {
   "cell_type": "code",
   "execution_count": 20,
   "metadata": {},
   "outputs": [
    {
     "data": {
      "text/plain": [
       "'rst file\\nThis file\\n\\ncontains three lines\\n'"
      ]
     },
     "execution_count": 20,
     "metadata": {},
     "output_type": "execute_result"
    }
   ],
   "source": [
    "f.read()  # further reading returns empty sting"
   ]
  },
  {
   "cell_type": "markdown",
   "metadata": {},
   "source": [
    "We can see that, the read() method returns newline as '\\n'. \n",
    "Once the end of file is reached, we get empty string on further reading."
   ]
  },
  {
   "cell_type": "code",
   "execution_count": 68,
   "metadata": {},
   "outputs": [],
   "source": [
    "#We can change our current file cursor (position) using the seek() method. \n",
    "#Similarly, the tell() method returns our current position (in number of bytes)."
   ]
  },
  {
   "cell_type": "code",
   "execution_count": 19,
   "metadata": {},
   "outputs": [
    {
     "data": {
      "text/plain": [
       "5"
      ]
     },
     "execution_count": 19,
     "metadata": {},
     "output_type": "execute_result"
    }
   ],
   "source": [
    "f.tell()    # get the current file position"
   ]
  },
  {
   "cell_type": "code",
   "execution_count": 18,
   "metadata": {},
   "outputs": [
    {
     "data": {
      "text/plain": [
       "5"
      ]
     },
     "execution_count": 18,
     "metadata": {},
     "output_type": "execute_result"
    }
   ],
   "source": [
    "f.seek(0)   # bring file cursor to initial position"
   ]
  },
  {
   "cell_type": "code",
   "execution_count": 18,
   "metadata": {},
   "outputs": [
    {
     "name": "stdout",
     "output_type": "stream",
     "text": [
      " first file\n",
      "This file\n",
      "\n",
      "contains three lines\n",
      "\n"
     ]
    }
   ],
   "source": [
    "print(f.read())  # read the entire file"
   ]
  },
  {
   "cell_type": "code",
   "execution_count": 21,
   "metadata": {},
   "outputs": [
    {
     "name": "stdout",
     "output_type": "stream",
     "text": [
      "my first file\n",
      "This file\n",
      "\n",
      "contains three lines\n"
     ]
    }
   ],
   "source": [
    "#We can read a file line-by-line using a for loop. This is both efficient and fast.\n",
    "\n",
    "for line in f:\n",
    "    print(line,end = '')    "
   ]
  },
  {
   "cell_type": "code",
   "execution_count": 88,
   "metadata": {},
   "outputs": [],
   "source": [
    "#The lines in file itself has a newline character '\\n'.\n",
    "\n",
    "#Moreover, the print() end parameter to avoid two newlines when printing."
   ]
  },
  {
   "cell_type": "markdown",
   "metadata": {},
   "source": [
    "Alternately, we can use readline() method to read individual lines of a file. \n",
    "This method reads a file till the newline, including the newline character."
   ]
  },
  {
   "cell_type": "code",
   "execution_count": 34,
   "metadata": {},
   "outputs": [
    {
     "data": {
      "text/plain": [
       "0"
      ]
     },
     "execution_count": 34,
     "metadata": {},
     "output_type": "execute_result"
    }
   ],
   "source": [
    "f.seek(0)"
   ]
  },
  {
   "cell_type": "code",
   "execution_count": 23,
   "metadata": {},
   "outputs": [
    {
     "data": {
      "text/plain": [
       "'my first file\\n'"
      ]
     },
     "execution_count": 23,
     "metadata": {},
     "output_type": "execute_result"
    }
   ],
   "source": [
    "f.readline()"
   ]
  },
  {
   "cell_type": "code",
   "execution_count": 24,
   "metadata": {},
   "outputs": [
    {
     "data": {
      "text/plain": [
       "'This file\\n'"
      ]
     },
     "execution_count": 24,
     "metadata": {},
     "output_type": "execute_result"
    }
   ],
   "source": [
    "f.readline()"
   ]
  },
  {
   "cell_type": "code",
   "execution_count": 25,
   "metadata": {},
   "outputs": [
    {
     "data": {
      "text/plain": [
       "'\\n'"
      ]
     },
     "execution_count": 25,
     "metadata": {},
     "output_type": "execute_result"
    }
   ],
   "source": [
    "f.readline()"
   ]
  },
  {
   "cell_type": "code",
   "execution_count": 26,
   "metadata": {},
   "outputs": [
    {
     "data": {
      "text/plain": [
       "'contains three lines\\n'"
      ]
     },
     "execution_count": 26,
     "metadata": {},
     "output_type": "execute_result"
    }
   ],
   "source": [
    "f.readline()"
   ]
  },
  {
   "cell_type": "code",
   "execution_count": 27,
   "metadata": {},
   "outputs": [
    {
     "data": {
      "text/plain": [
       "''"
      ]
     },
     "execution_count": 27,
     "metadata": {},
     "output_type": "execute_result"
    }
   ],
   "source": [
    "f.readline()"
   ]
  },
  {
   "cell_type": "markdown",
   "metadata": {},
   "source": [
    "Lastly, the readlines() method returns a list of remaining lines of the entire file.\n",
    "All these reading method return empty values when end of file (EOF) is reached."
   ]
  },
  {
   "cell_type": "code",
   "execution_count": 35,
   "metadata": {},
   "outputs": [
    {
     "data": {
      "text/plain": [
       "['my first file\\n', 'This file\\n', '\\n', 'contains three lines\\n']"
      ]
     },
     "execution_count": 35,
     "metadata": {},
     "output_type": "execute_result"
    }
   ],
   "source": [
    "f.readlines()"
   ]
  },
  {
   "cell_type": "code",
   "execution_count": null,
   "metadata": {},
   "outputs": [],
   "source": [
    "#Python File Methods\n",
    "\n",
    "#There are various methods available with the file object.\n",
    "#Some of them have been used in above examples.\n",
    "\n",
    "#Here is the complete list of methods in text mode with a brief description.\n",
    "\n",
    "#Python File Methods\n",
    "\n",
    "#Method\tDescription\n",
    "#close()\tClose an open file. It has no effect if the file is already closed.\n",
    "#detach()\tSeparate the underlying binary buffer from the TextIOBase and return it.\n",
    "#fileno()\tReturn an integer number (file descriptor) of the file.\n",
    "#flush()\tFlush the write buffer of the file stream.\n",
    "#isatty()\tReturn True if the file stream is interactive.\n",
    "#read(n)\tRead atmost n characters form the file. Reads till end of file if it is negative or None.\n",
    "#readable()\tReturns True if the file stream can be read from.\n",
    "#readline(n=-1)\tRead and return one line from the file. Reads in at most n bytes if specified.\n",
    "#readlines(n=-1)\tRead and return a list of lines from the file. Reads in at most n bytes/characters if specified.\n",
    "#seek(offset,from=SEEK_SET)\tChange the file position to offset bytes, in reference to from (start, current, end).\n",
    "#seekable()\tReturns True if the file stream supports random access.\n",
    "#tell()\tReturns the current file location.\n",
    "#truncate(size=None)\tResize the file stream to size bytes. If size is not specified, resize to current location.\n",
    "#writable()\tReturns True if the file stream can be written to.\n",
    "#write(s)\tWrite string s to the file and return the number of characters written.\n",
    "#writelines(lines)\tWrite a list of lines to the file."
   ]
  },
  {
   "cell_type": "code",
   "execution_count": null,
   "metadata": {},
   "outputs": [],
   "source": []
  },
  {
   "cell_type": "code",
   "execution_count": null,
   "metadata": {},
   "outputs": [],
   "source": []
  }
 ],
 "metadata": {
  "kernelspec": {
   "display_name": "Python 3",
   "language": "python",
   "name": "python3"
  },
  "language_info": {
   "codemirror_mode": {
    "name": "ipython",
    "version": 3
   },
   "file_extension": ".py",
   "mimetype": "text/x-python",
   "name": "python",
   "nbconvert_exporter": "python",
   "pygments_lexer": "ipython3",
   "version": "3.7.3"
  }
 },
 "nbformat": 4,
 "nbformat_minor": 2
}
